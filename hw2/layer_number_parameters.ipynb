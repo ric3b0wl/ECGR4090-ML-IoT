{
  "nbformat": 4,
  "nbformat_minor": 0,
  "metadata": {
    "colab": {
      "name": "layer_number_parameters.ipynb",
      "provenance": []
    },
    "kernelspec": {
      "name": "python3",
      "display_name": "Python 3"
    }
  },
  "cells": [
    {
      "cell_type": "markdown",
      "metadata": {
        "id": "p5GIPGtDog_g"
      },
      "source": [
        "#Conv 2D: 32 filters, 3x3 kernel, stride=2"
      ]
    },
    {
      "cell_type": "code",
      "metadata": {
        "colab": {
          "base_uri": "https://localhost:8080/"
        },
        "id": "ZFPjP8HTomRn",
        "outputId": "0e7cc5ec-fa22-4ac1-c2af-ee45336d2838"
      },
      "source": [
        "output_channel_number_2d = 32\r\n",
        "input_channel_number_2d = 3\r\n",
        "kernel_height_2d = 3\r\n",
        "kernel_width_2d = 3\r\n",
        "\r\n",
        "param_number_2d = output_channel_number_2d * (input_channel_number_2d * kernel_height_2d * kernel_width_2d + 1)\r\n",
        "print(f'Param number for Conv2D is: {param_number_2d}')"
      ],
      "execution_count": 12,
      "outputs": [
        {
          "output_type": "stream",
          "text": [
            "Param number for Conv2D is: 896\n"
          ],
          "name": "stdout"
        }
      ]
    },
    {
      "cell_type": "markdown",
      "metadata": {
        "id": "og4j62Ajq1sU"
      },
      "source": [
        "#Conv 2D: 64 filters, 3x3 kernel, stride=2"
      ]
    },
    {
      "cell_type": "code",
      "metadata": {
        "colab": {
          "base_uri": "https://localhost:8080/"
        },
        "id": "btX4s55oq7pL",
        "outputId": "25513080-539b-4574-a2b5-9703740676ad"
      },
      "source": [
        "output_channel_number_2d1 = 64\r\n",
        "input_channel_number_2d1 = 32\r\n",
        "kernel_height_2d1 = 3\r\n",
        "kernel_width_2d1 = 3\r\n",
        "\r\n",
        "param_number_2d1 = output_channel_number_2d1 * (input_channel_number_2d1 * kernel_height_2d1 * kernel_width_2d1 + 1)\r\n",
        "print(f'Param number for Conv2D is: {param_number_2d1}')"
      ],
      "execution_count": 13,
      "outputs": [
        {
          "output_type": "stream",
          "text": [
            "Param number for Conv2D is: 18496\n"
          ],
          "name": "stdout"
        }
      ]
    },
    {
      "cell_type": "markdown",
      "metadata": {
        "id": "M0sw9YFLnhqM"
      },
      "source": [
        "#MaxPooling, 2x2 pooling size, 2x2 stride"
      ]
    },
    {
      "cell_type": "markdown",
      "metadata": {
        "id": "x-Zj3BNnnypP"
      },
      "source": [
        "Output from layer Conv2d_1 is (8, 8, 64)\r\n",
        "\r\n",
        "The size of pool is 2 x 2, therefor the shape of data will be (4, 4) which is (8/2, 8/2)\r\n",
        "\r\n",
        "> The result is (4, 4, 64)\r\n",
        "\r\n",
        "\r\n",
        "\r\n"
      ]
    },
    {
      "cell_type": "markdown",
      "metadata": {
        "id": "6sVFWnTSr8ZX"
      },
      "source": [
        "#Flatten"
      ]
    },
    {
      "cell_type": "markdown",
      "metadata": {
        "id": "0_rnRfUGsELA"
      },
      "source": [
        "Flatten layer doesn't learn anything, it only flatten input data, therefore the number of parameter is 0.\r\n",
        "\r\n",
        "Using pervious layer output shape by concatenating them: 4 * 4 * 64 = 1024\r\n",
        "\r\n",
        "Which result of flatten output shape is 1024"
      ]
    },
    {
      "cell_type": "markdown",
      "metadata": {
        "id": "y1KnLPyStOFQ"
      },
      "source": [
        "# Dense (aka Fully Connected) , 1024 units."
      ]
    },
    {
      "cell_type": "code",
      "metadata": {
        "colab": {
          "base_uri": "https://localhost:8080/"
        },
        "id": "SwLLDoc6tU3M",
        "outputId": "5c3a2ca0-bf63-423a-83d3-66b4fb9fd098"
      },
      "source": [
        "output_channel_number_dense = 1024\r\n",
        "input_channel_number_dense = 1024 \r\n",
        "\r\n",
        "param_number_dense = output_channel_number_dense * (input_channel_number_dense + 1)\r\n",
        "print(f'Param number for Dense is: {param_number_dense}')"
      ],
      "execution_count": 15,
      "outputs": [
        {
          "output_type": "stream",
          "text": [
            "Param number for Dense is: 1049600\n"
          ],
          "name": "stdout"
        }
      ]
    },
    {
      "cell_type": "markdown",
      "metadata": {
        "id": "82F5NdHHtTGi"
      },
      "source": [
        "#Dense (aka Fully Connected) , 10 units."
      ]
    },
    {
      "cell_type": "code",
      "metadata": {
        "colab": {
          "base_uri": "https://localhost:8080/"
        },
        "id": "mdgWrs_suTNE",
        "outputId": "c98c87dc-8734-43c6-a8d4-10948620dab8"
      },
      "source": [
        "output_channel_number_dense1 = 10\r\n",
        "input_channel_number_dense1 = 1024 \r\n",
        "\r\n",
        "param_number_dense1 = output_channel_number_dense1 * (input_channel_number_dense1 + 1)\r\n",
        "print(f'Param number for Dense is: {param_number_dense1}')"
      ],
      "execution_count": 16,
      "outputs": [
        {
          "output_type": "stream",
          "text": [
            "Param number for Dense is: 10250\n"
          ],
          "name": "stdout"
        }
      ]
    },
    {
      "cell_type": "markdown",
      "metadata": {
        "id": "Jq6ELQSlufUV"
      },
      "source": [
        "# Total Param"
      ]
    },
    {
      "cell_type": "code",
      "metadata": {
        "colab": {
          "base_uri": "https://localhost:8080/"
        },
        "id": "GUe6F3NaujNi",
        "outputId": "677af881-dd7e-45e9-8969-5f906cf941a8"
      },
      "source": [
        "total_param = param_number_2d + param_number_2d1 + param_number_dense + param_number_dense1\r\n",
        "print(f'Total param number for Dense is: {total_param}')"
      ],
      "execution_count": 19,
      "outputs": [
        {
          "output_type": "stream",
          "text": [
            "Total param number for Dense is: 1079242\n"
          ],
          "name": "stdout"
        }
      ]
    }
  ]
}